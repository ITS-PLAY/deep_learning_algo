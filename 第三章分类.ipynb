{
 "cells": [
  {
   "cell_type": "code",
   "execution_count": 19,
   "id": "990d0398-8d3a-400c-bfc7-f2155a829aff",
   "metadata": {},
   "outputs": [],
   "source": [
    "import pandas as pd\n",
    "from pathlib import Path\n",
    "import os\n",
    "from numpy import *"
   ]
  },
  {
   "cell_type": "code",
   "execution_count": 2,
   "id": "7b4d03af-355b-4871-95db-ad8430c09468",
   "metadata": {},
   "outputs": [],
   "source": [
    "from tensorflow import keras"
   ]
  },
  {
   "cell_type": "code",
   "execution_count": 22,
   "id": "07e8b659-4152-4921-8b24-539abba8ebcb",
   "metadata": {},
   "outputs": [],
   "source": [
    "from keras.datasets import mnist\n",
    "(X_train, y_train), (X_test, y_test) = mnist.load_data()"
   ]
  },
  {
   "cell_type": "code",
   "execution_count": 4,
   "id": "3d07975f-527f-4197-ad8e-9bcd3125da7b",
   "metadata": {},
   "outputs": [],
   "source": [
    "import matplotlib as mpl\n",
    "import matplotlib.pyplot as plt"
   ]
  },
  {
   "cell_type": "code",
   "execution_count": 6,
   "id": "cb040ee9-202b-4095-9a5d-db1b32ab6361",
   "metadata": {},
   "outputs": [
    {
     "data": {
      "image/png": "[encoded data removed]",
      "text/plain": [
       "<Figure size 432x288 with 1 Axes>"
      ]
     },
     "metadata": {
      "needs_background": "light"
     },
     "output_type": "display_data"
    }
   ],
   "source": [
    "some_digit = X_train[0]\n",
    "some_digit_image = some_digit.reshape(28,28)\n",
    "plt.imshow(some_digit_image,cmap='binary')   #imshow()热力图函数负责对图像进行处理，并显示其格式\n",
    "plt.axis('off')\n",
    "plt.show()"
   ]
  },
  {
   "cell_type": "code",
   "execution_count": 9,
   "id": "9e668515-c2d4-42ec-9eb0-d804df4f5a95",
   "metadata": {},
   "outputs": [
    {
     "data": {
      "text/plain": [
       "5"
      ]
     },
     "execution_count": 9,
     "metadata": {},
     "output_type": "execute_result"
    }
   ],
   "source": [
    "y_train[0]"
   ]
  },
  {
   "cell_type": "code",
   "execution_count": 10,
   "id": "2a36a7fb-3773-4355-bfad-7e3c5b198944",
   "metadata": {},
   "outputs": [],
   "source": [
    "#训练二元分类器"
   ]
  },
  {
   "cell_type": "code",
   "execution_count": 14,
   "id": "7145e93f-f595-4da2-926a-4aef3f8ad530",
   "metadata": {},
   "outputs": [],
   "source": [
    "y_train_5 = (y_train==5)\n",
    "y_test_5 = (y_test == 5)"
   ]
  },
  {
   "cell_type": "code",
   "execution_count": 15,
   "id": "08628aa9-8a56-4b7d-a754-e073c3d71cbc",
   "metadata": {},
   "outputs": [],
   "source": [
    "from sklearn.linear_model import SGDClassifier"
   ]
  },
  {
   "cell_type": "code",
   "execution_count": 50,
   "id": "72b5e580-d3af-45ae-87d0-55b7be77582f",
   "metadata": {},
   "outputs": [
    {
     "data": {
      "text/plain": [
       "SGDClassifier(random_state=42)"
      ]
     },
     "execution_count": 50,
     "metadata": {},
     "output_type": "execute_result"
    }
   ],
   "source": [
    "sgd_clf = SGDClassifier(random_state=42)\n",
    "X_train_2D = X_train.reshape(X_train.shape[0],X_train.shape[1]*X_train.shape[2])  #将三维数组转换为二维数组\n",
    "sgd_clf.fit(X_train_2D,y_train_5)"
   ]
  },
  {
   "cell_type": "code",
   "execution_count": 46,
   "id": "23cc838d-30a1-4f35-bba7-f68249efd93c",
   "metadata": {},
   "outputs": [
    {
     "data": {
      "text/plain": [
       "array([ True])"
      ]
     },
     "execution_count": 46,
     "metadata": {},
     "output_type": "execute_result"
    }
   ],
   "source": [
    "some_digit = X_train_2D[0]\n",
    "sgd_clf.predict([some_digit])"
   ]
  },
  {
   "cell_type": "code",
   "execution_count": null,
   "id": "3439c28a-2b4e-4c5a-93a9-5b4078722106",
   "metadata": {},
   "outputs": [],
   "source": []
  },
  {
   "cell_type": "code",
   "execution_count": 47,
   "id": "a96e4d32-efe0-43f5-b01f-515271503824",
   "metadata": {},
   "outputs": [],
   "source": [
    "#分类器的性能测量：交叉验证、混淆矩阵、精度和召回率、ROC曲线"
   ]
  },
  {
   "cell_type": "code",
   "execution_count": 55,
   "id": "df7d6dac-7971-4e2a-8aa0-e5f8f8cfbe31",
   "metadata": {},
   "outputs": [],
   "source": [
    "#交叉验证，K折验证，留1个折叠用于预测准确性"
   ]
  },
  {
   "cell_type": "code",
   "execution_count": 49,
   "id": "163e381a-cbd8-4cf1-8ded-7274a26b16f9",
   "metadata": {},
   "outputs": [],
   "source": [
    "from sklearn.model_selection import StratifiedKFold      #分层抽样\n",
    "from sklearn.base import clone"
   ]
  },
  {
   "cell_type": "code",
   "execution_count": 54,
   "id": "895e67ad-b733-4451-baf4-302b3da21dcc",
   "metadata": {},
   "outputs": [
    {
     "name": "stdout",
     "output_type": "stream",
     "text": [
      "0.95035\n",
      "0.96035\n",
      "0.9604\n"
     ]
    }
   ],
   "source": [
    "skfolds = StratifiedKFold(n_splits=3)\n",
    "for train_index, test_index in skfolds.split(X_train_2D,y_train_5):\n",
    "    clone_clf = clone(sgd_clf)\n",
    "    X_train_folds = X_train_2D[train_index]\n",
    "    y_train_folds = y_train_5[train_index]\n",
    "    \n",
    "    X_test_folds = X_train_2D[test_index]\n",
    "    y_test_folds = y_train_5[test_index]    \n",
    "    \n",
    "    clone_clf.fit(X_train_folds,y_train_folds)\n",
    "    y_pred = clone_clf.predict(X_test_folds)\n",
    "    n_correct = sum(y_pred == y_test_folds)\n",
    "    print(n_correct/len(y_pred))\n",
    "    "
   ]
  },
  {
   "cell_type": "code",
   "execution_count": 56,
   "id": "6aff1a0c-36d7-416d-8e54-03bfd7b5f20f",
   "metadata": {},
   "outputs": [],
   "source": [
    "from sklearn.model_selection import cross_val_score"
   ]
  },
  {
   "cell_type": "code",
   "execution_count": 57,
   "id": "79b467ca-cf8b-4127-999b-26c2498f6c12",
   "metadata": {},
   "outputs": [
    {
     "data": {
      "text/plain": [
       "array([0.95035, 0.96035, 0.9604 ])"
      ]
     },
     "execution_count": 57,
     "metadata": {},
     "output_type": "execute_result"
    }
   ],
   "source": [
    "cross_val_score(sgd_clf,X_train_2D,y_train_5,cv=3,scoring='accuracy') #样本存在偏数据"
   ]
  },
  {
   "cell_type": "code",
   "execution_count": 58,
   "id": "aa344cc6-9bb3-4d66-a4ec-632c38b1146e",
   "metadata": {},
   "outputs": [],
   "source": [
    "from sklearn.base import BaseEstimator"
   ]
  },
  {
   "cell_type": "code",
   "execution_count": 64,
   "id": "08bbb06a-548e-40b1-b101-91f0c49c1c4a",
   "metadata": {},
   "outputs": [],
   "source": [
    "class Never5Classifier(BaseEstimator):               #产生随机结果的分类器作为对比\n",
    "    def fit(self,X,y=None):\n",
    "        return self\n",
    "    def predict(self,X):\n",
    "        return zeros((len(X),1),dtype=bool)"
   ]
  },
  {
   "cell_type": "code",
   "execution_count": 65,
   "id": "2d3fa463-ca47-4b7e-bddc-bb26249c5077",
   "metadata": {},
   "outputs": [
    {
     "data": {
      "text/plain": [
       "array([0.91125, 0.90855, 0.90915])"
      ]
     },
     "execution_count": 65,
     "metadata": {},
     "output_type": "execute_result"
    }
   ],
   "source": [
    "never_5_clf = Never5Classifier()\n",
    "cross_val_score(never_5_clf,X_train_2D,y_train_5,cv=3,scoring='accuracy')"
   ]
  },
  {
   "cell_type": "code",
   "execution_count": 66,
   "id": "4699af49-d808-4482-9b79-8e0e99447506",
   "metadata": {},
   "outputs": [],
   "source": [
    "#采用混淆矩阵，解决偏数据评估问题"
   ]
  },
  {
   "cell_type": "code",
   "execution_count": null,
   "id": "7de18c4b-5553-4a3c-9029-ea397a0798a3",
   "metadata": {},
   "outputs": [],
   "source": []
  }
 ],
 "metadata": {
  "kernelspec": {
   "display_name": "Python 3 (ipykernel)",
   "language": "python",
   "name": "python3"
  },
  "language_info": {
   "codemirror_mode": {
    "name": "ipython",
    "version": 3
   },
   "file_extension": ".py",
   "mimetype": "text/x-python",
   "name": "python",
   "nbconvert_exporter": "python",
   "pygments_lexer": "ipython3",
   "version": "3.9.1"
  }
 },
 "nbformat": 4,
 "nbformat_minor": 5
}
